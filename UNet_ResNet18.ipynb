{
 "cells": [
  {
   "cell_type": "code",
   "execution_count": 1,
   "metadata": {},
   "outputs": [],
   "source": [
    "import torch\n",
    "import torch.nn as nn\n",
    "import torchvision.models as models"
   ]
  },
  {
   "cell_type": "code",
   "execution_count": 2,
   "metadata": {},
   "outputs": [],
   "source": [
    "class ResNet18_UNet(nn.Module):\n",
    "    def __init__(self, num_classes=1):\n",
    "        super(ResNet18_UNet, self).__init__()\n",
    "\n",
    "        # Fix typo: resent -> resnet\n",
    "        resnet = models.resnet18(weights=\"IMAGENET1K_V1\")\n",
    "\n",
    "        self.encoder = nn.ModuleDict({\n",
    "            \"conv1\": nn.Sequential(resnet.conv1, resnet.bn1, resnet.relu),\n",
    "            \"maxpool\": resnet.maxpool,\n",
    "            \"layer1\": resnet.layer1,\n",
    "            \"layer2\": resnet.layer2,\n",
    "            \"layer3\": resnet.layer3,\n",
    "            \"layer4\": resnet.layer4\n",
    "        })\n",
    "\n",
    "        # Decoder path\n",
    "        self.upconv1 = self.upconv(512, 256)\n",
    "        self.upconv2 = self.upconv(512, 128)  # 256 + 256 input channels (including skip)\n",
    "        self.upconv3 = self.upconv(256, 64)   # 128 + 128 input channels (including skip)\n",
    "        self.upconv4 = self.upconv(128, 32)   # 64 + 64 input channels (including skip)\n",
    "\n",
    "        self.final_upsample = nn.ConvTranspose2d(32, 32, kernel_size=2, stride=2)\n",
    "        self.final_conv = nn.Conv2d(32, num_classes, kernel_size=1)\n",
    "\n",
    "    def upconv(self, in_channels, out_channels):\n",
    "        return nn.Sequential(\n",
    "            nn.ConvTranspose2d(in_channels, out_channels, kernel_size=2, stride=2),\n",
    "            nn.ReLU(inplace=True),\n",
    "            nn.Conv2d(out_channels, out_channels, kernel_size=3, padding=1),\n",
    "            nn.ReLU(inplace=True),\n",
    "            nn.Conv2d(out_channels, out_channels, kernel_size=3, padding=1),\n",
    "            nn.BatchNorm2d(out_channels),\n",
    "            nn.ReLU(inplace=True)\n",
    "        )\n",
    "\n",
    "    def forward(self, x):\n",
    "        # Encoder path\n",
    "        x1 = self.encoder['conv1'](x)          # First encoding layer\n",
    "        x2 = self.encoder['maxpool'](x1)       \n",
    "        x3 = self.encoder['layer1'](x2)        # layer1\n",
    "        x4 = self.encoder['layer2'](x3)        # layer2\n",
    "        x5 = self.encoder['layer3'](x4)        # layer3\n",
    "        x6 = self.encoder['layer4'](x5)        # bottleneck\n",
    "\n",
    "        # Decoder path with skip connections\n",
    "        d1 = self.upconv1(x6)                  # Upsampled bottleneck\n",
    "        d1 = torch.cat([d1, x5], dim=1)        # Skip connection with layer3\n",
    "        \n",
    "        d2 = self.upconv2(d1)                  # Upsampled d1\n",
    "        d2 = torch.cat([d2, x4], dim=1)        # Skip connection with layer2\n",
    "        \n",
    "        d3 = self.upconv3(d2)                  # Upsampled d2\n",
    "        d3 = torch.cat([d3, x3], dim=1)        # Skip connection with layer1\n",
    "        \n",
    "        d4 = self.upconv4(d3)                  # Upsampled d3\n",
    "        \n",
    "        d5 = self.final_upsample(d4)           # Final upsampling\n",
    "\n",
    "        out = self.final_conv(d5)              # Final 1x1 convolution\n",
    "        return out"
   ]
  },
  {
   "cell_type": "code",
   "execution_count": 3,
   "metadata": {},
   "outputs": [
    {
     "name": "stdout",
     "output_type": "stream",
     "text": [
      "torch.Size([1, 1, 256, 256])\n"
     ]
    }
   ],
   "source": [
    "model = ResNet18_UNet(num_classes=1)\n",
    "x = torch.randn(1, 3, 256, 256)\n",
    "output = model(x)\n",
    "print(output.shape)"
   ]
  },
  {
   "cell_type": "code",
   "execution_count": null,
   "metadata": {},
   "outputs": [],
   "source": []
  }
 ],
 "metadata": {
  "kernelspec": {
   "display_name": "pytorch",
   "language": "python",
   "name": "python3"
  },
  "language_info": {
   "codemirror_mode": {
    "name": "ipython",
    "version": 3
   },
   "file_extension": ".py",
   "mimetype": "text/x-python",
   "name": "python",
   "nbconvert_exporter": "python",
   "pygments_lexer": "ipython3",
   "version": "3.13.2"
  }
 },
 "nbformat": 4,
 "nbformat_minor": 2
}
